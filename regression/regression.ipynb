{
 "cells": [
  {
   "cell_type": "code",
   "execution_count": 1,
   "id": "8dda006c-3d9f-457f-bdfd-986348c4bd81",
   "metadata": {},
   "outputs": [],
   "source": [
    "import pandas as pd\n",
    "import numpy as np\n",
    "import seaborn as sns"
   ]
  },
  {
   "cell_type": "code",
   "execution_count": 2,
   "id": "5d9865ca-e960-488e-b6d1-6f4b5767cbe0",
   "metadata": {},
   "outputs": [
    {
     "name": "stdout",
     "output_type": "stream",
     "text": [
      "--2023-09-19 10:45:42--  https://raw.githubusercontent.com/alexeygrigorev/datasets/master/housing.csv\n",
      "Resolving raw.githubusercontent.com (raw.githubusercontent.com)... 185.199.109.133, 185.199.111.133, 185.199.110.133, ...\n",
      "Connecting to raw.githubusercontent.com (raw.githubusercontent.com)|185.199.109.133|:443... connected.\n",
      "HTTP request sent, awaiting response... 200 OK\n",
      "Length: 1423529 (1,4M) [text/plain]\n",
      "Saving to: ‘housing.csv.1’\n",
      "\n",
      "housing.csv.1         4%[                    ]  64,00K  --.-KB/s    eta 8m 28s ^C\n"
     ]
    }
   ],
   "source": [
    "!wget https://raw.githubusercontent.com/alexeygrigorev/datasets/master/housing.csv"
   ]
  },
  {
   "cell_type": "code",
   "execution_count": 2,
   "id": "3b00b53e-83f6-4a8d-b2c4-7303dd5fd06e",
   "metadata": {},
   "outputs": [],
   "source": [
    "df = pd.read_csv(\"./housing.csv\")"
   ]
  },
  {
   "cell_type": "code",
   "execution_count": 3,
   "id": "4a0e76e9-beb4-4401-81c8-0efd59034563",
   "metadata": {},
   "outputs": [
    {
     "data": {
      "text/html": [
       "<div>\n",
       "<style scoped>\n",
       "    .dataframe tbody tr th:only-of-type {\n",
       "        vertical-align: middle;\n",
       "    }\n",
       "\n",
       "    .dataframe tbody tr th {\n",
       "        vertical-align: top;\n",
       "    }\n",
       "\n",
       "    .dataframe thead th {\n",
       "        text-align: right;\n",
       "    }\n",
       "</style>\n",
       "<table border=\"1\" class=\"dataframe\">\n",
       "  <thead>\n",
       "    <tr style=\"text-align: right;\">\n",
       "      <th></th>\n",
       "      <th>longitude</th>\n",
       "      <th>latitude</th>\n",
       "      <th>housing_median_age</th>\n",
       "      <th>total_rooms</th>\n",
       "      <th>total_bedrooms</th>\n",
       "      <th>population</th>\n",
       "      <th>households</th>\n",
       "      <th>median_income</th>\n",
       "      <th>median_house_value</th>\n",
       "      <th>ocean_proximity</th>\n",
       "    </tr>\n",
       "  </thead>\n",
       "  <tbody>\n",
       "    <tr>\n",
       "      <th>0</th>\n",
       "      <td>-122.23</td>\n",
       "      <td>37.88</td>\n",
       "      <td>41.0</td>\n",
       "      <td>880.0</td>\n",
       "      <td>129.0</td>\n",
       "      <td>322.0</td>\n",
       "      <td>126.0</td>\n",
       "      <td>8.3252</td>\n",
       "      <td>452600.0</td>\n",
       "      <td>NEAR BAY</td>\n",
       "    </tr>\n",
       "    <tr>\n",
       "      <th>1</th>\n",
       "      <td>-122.22</td>\n",
       "      <td>37.86</td>\n",
       "      <td>21.0</td>\n",
       "      <td>7099.0</td>\n",
       "      <td>1106.0</td>\n",
       "      <td>2401.0</td>\n",
       "      <td>1138.0</td>\n",
       "      <td>8.3014</td>\n",
       "      <td>358500.0</td>\n",
       "      <td>NEAR BAY</td>\n",
       "    </tr>\n",
       "    <tr>\n",
       "      <th>2</th>\n",
       "      <td>-122.24</td>\n",
       "      <td>37.85</td>\n",
       "      <td>52.0</td>\n",
       "      <td>1467.0</td>\n",
       "      <td>190.0</td>\n",
       "      <td>496.0</td>\n",
       "      <td>177.0</td>\n",
       "      <td>7.2574</td>\n",
       "      <td>352100.0</td>\n",
       "      <td>NEAR BAY</td>\n",
       "    </tr>\n",
       "    <tr>\n",
       "      <th>3</th>\n",
       "      <td>-122.25</td>\n",
       "      <td>37.85</td>\n",
       "      <td>52.0</td>\n",
       "      <td>1274.0</td>\n",
       "      <td>235.0</td>\n",
       "      <td>558.0</td>\n",
       "      <td>219.0</td>\n",
       "      <td>5.6431</td>\n",
       "      <td>341300.0</td>\n",
       "      <td>NEAR BAY</td>\n",
       "    </tr>\n",
       "    <tr>\n",
       "      <th>4</th>\n",
       "      <td>-122.25</td>\n",
       "      <td>37.85</td>\n",
       "      <td>52.0</td>\n",
       "      <td>1627.0</td>\n",
       "      <td>280.0</td>\n",
       "      <td>565.0</td>\n",
       "      <td>259.0</td>\n",
       "      <td>3.8462</td>\n",
       "      <td>342200.0</td>\n",
       "      <td>NEAR BAY</td>\n",
       "    </tr>\n",
       "  </tbody>\n",
       "</table>\n",
       "</div>"
      ],
      "text/plain": [
       "   longitude  latitude  housing_median_age  total_rooms  total_bedrooms  \\\n",
       "0    -122.23     37.88                41.0        880.0           129.0   \n",
       "1    -122.22     37.86                21.0       7099.0          1106.0   \n",
       "2    -122.24     37.85                52.0       1467.0           190.0   \n",
       "3    -122.25     37.85                52.0       1274.0           235.0   \n",
       "4    -122.25     37.85                52.0       1627.0           280.0   \n",
       "\n",
       "   population  households  median_income  median_house_value ocean_proximity  \n",
       "0       322.0       126.0         8.3252            452600.0        NEAR BAY  \n",
       "1      2401.0      1138.0         8.3014            358500.0        NEAR BAY  \n",
       "2       496.0       177.0         7.2574            352100.0        NEAR BAY  \n",
       "3       558.0       219.0         5.6431            341300.0        NEAR BAY  \n",
       "4       565.0       259.0         3.8462            342200.0        NEAR BAY  "
      ]
     },
     "execution_count": 3,
     "metadata": {},
     "output_type": "execute_result"
    }
   ],
   "source": [
    "df.head()"
   ]
  },
  {
   "cell_type": "markdown",
   "id": "7fa42e24-42ad-4971-916a-3114bea78c9f",
   "metadata": {},
   "source": [
    "## EDA"
   ]
  },
  {
   "cell_type": "code",
   "execution_count": 4,
   "id": "15d34615-d820-4898-90af-73799ac5a73e",
   "metadata": {},
   "outputs": [
    {
     "data": {
      "text/plain": [
       "count     20640.000000\n",
       "mean     206855.816909\n",
       "std      115395.615874\n",
       "min       14999.000000\n",
       "25%      119600.000000\n",
       "50%      179700.000000\n",
       "75%      264725.000000\n",
       "max      500001.000000\n",
       "Name: median_house_value, dtype: float64"
      ]
     },
     "execution_count": 4,
     "metadata": {},
     "output_type": "execute_result"
    }
   ],
   "source": [
    "df[\"median_house_value\"].describe()"
   ]
  },
  {
   "cell_type": "code",
   "execution_count": 5,
   "id": "7fac3750-fa2b-4fa6-9e95-40613666d02e",
   "metadata": {},
   "outputs": [
    {
     "name": "stderr",
     "output_type": "stream",
     "text": [
      "/home/misa/anaconda3/lib/python3.9/site-packages/seaborn/distributions.py:2619: FutureWarning: `distplot` is a deprecated function and will be removed in a future version. Please adapt your code to use either `displot` (a figure-level function with similar flexibility) or `histplot` (an axes-level function for histograms).\n",
      "  warnings.warn(msg, FutureWarning)\n"
     ]
    },
    {
     "data": {
      "text/plain": [
       "<AxesSubplot:xlabel='median_house_value', ylabel='Density'>"
      ]
     },
     "execution_count": 5,
     "metadata": {},
     "output_type": "execute_result"
    },
    {
     "data": {
      "image/png": "[encoded data removed]",
      "text/plain": [
       "<Figure size 640x480 with 1 Axes>"
      ]
     },
     "metadata": {},
     "output_type": "display_data"
    }
   ],
   "source": [
    "sns.distplot(df[\"median_house_value\"])"
   ]
  },
  {
   "cell_type": "code",
   "execution_count": 6,
   "id": "c1229643-a50b-4a5c-9230-8cd910b3b2a7",
   "metadata": {},
   "outputs": [
    {
     "data": {
      "text/plain": [
       "<1H OCEAN     9136\n",
       "INLAND        6551\n",
       "NEAR OCEAN    2658\n",
       "NEAR BAY      2290\n",
       "ISLAND           5\n",
       "Name: ocean_proximity, dtype: int64"
      ]
     },
     "execution_count": 6,
     "metadata": {},
     "output_type": "execute_result"
    }
   ],
   "source": [
    "df[\"ocean_proximity\"].value_counts()"
   ]
  },
  {
   "cell_type": "code",
   "execution_count": 7,
   "id": "bcb8ef5f-484e-46a6-b969-7c514800f5a6",
   "metadata": {},
   "outputs": [],
   "source": [
    "data = df[df[\"ocean_proximity\"] == \"INLAND\"]"
   ]
  },
  {
   "cell_type": "code",
   "execution_count": 8,
   "id": "43b40ff3-9b26-4050-b034-3f70a2b5b961",
   "metadata": {},
   "outputs": [],
   "source": [
    "data = data.drop(columns=[\"ocean_proximity\"])"
   ]
  },
  {
   "cell_type": "code",
   "execution_count": 9,
   "id": "90166ceb-5e6f-4a7c-95ea-c398410f458b",
   "metadata": {},
   "outputs": [
    {
     "data": {
      "text/html": [
       "<div>\n",
       "<style scoped>\n",
       "    .dataframe tbody tr th:only-of-type {\n",
       "        vertical-align: middle;\n",
       "    }\n",
       "\n",
       "    .dataframe tbody tr th {\n",
       "        vertical-align: top;\n",
       "    }\n",
       "\n",
       "    .dataframe thead th {\n",
       "        text-align: right;\n",
       "    }\n",
       "</style>\n",
       "<table border=\"1\" class=\"dataframe\">\n",
       "  <thead>\n",
       "    <tr style=\"text-align: right;\">\n",
       "      <th></th>\n",
       "      <th>longitude</th>\n",
       "      <th>latitude</th>\n",
       "      <th>housing_median_age</th>\n",
       "      <th>total_rooms</th>\n",
       "      <th>total_bedrooms</th>\n",
       "      <th>population</th>\n",
       "      <th>households</th>\n",
       "      <th>median_income</th>\n",
       "      <th>median_house_value</th>\n",
       "    </tr>\n",
       "  </thead>\n",
       "  <tbody>\n",
       "    <tr>\n",
       "      <th>954</th>\n",
       "      <td>-121.92</td>\n",
       "      <td>37.64</td>\n",
       "      <td>46.0</td>\n",
       "      <td>1280.0</td>\n",
       "      <td>209.0</td>\n",
       "      <td>512.0</td>\n",
       "      <td>208.0</td>\n",
       "      <td>5.1406</td>\n",
       "      <td>315600.0</td>\n",
       "    </tr>\n",
       "    <tr>\n",
       "      <th>957</th>\n",
       "      <td>-121.90</td>\n",
       "      <td>37.66</td>\n",
       "      <td>18.0</td>\n",
       "      <td>7397.0</td>\n",
       "      <td>1137.0</td>\n",
       "      <td>3126.0</td>\n",
       "      <td>1115.0</td>\n",
       "      <td>6.4994</td>\n",
       "      <td>323000.0</td>\n",
       "    </tr>\n",
       "    <tr>\n",
       "      <th>965</th>\n",
       "      <td>-121.88</td>\n",
       "      <td>37.68</td>\n",
       "      <td>23.0</td>\n",
       "      <td>2234.0</td>\n",
       "      <td>270.0</td>\n",
       "      <td>854.0</td>\n",
       "      <td>286.0</td>\n",
       "      <td>7.3330</td>\n",
       "      <td>337200.0</td>\n",
       "    </tr>\n",
       "    <tr>\n",
       "      <th>967</th>\n",
       "      <td>-121.88</td>\n",
       "      <td>37.67</td>\n",
       "      <td>16.0</td>\n",
       "      <td>4070.0</td>\n",
       "      <td>624.0</td>\n",
       "      <td>1543.0</td>\n",
       "      <td>577.0</td>\n",
       "      <td>6.5214</td>\n",
       "      <td>311500.0</td>\n",
       "    </tr>\n",
       "    <tr>\n",
       "      <th>968</th>\n",
       "      <td>-121.88</td>\n",
       "      <td>37.67</td>\n",
       "      <td>25.0</td>\n",
       "      <td>2244.0</td>\n",
       "      <td>301.0</td>\n",
       "      <td>937.0</td>\n",
       "      <td>324.0</td>\n",
       "      <td>6.4524</td>\n",
       "      <td>296900.0</td>\n",
       "    </tr>\n",
       "    <tr>\n",
       "      <th>...</th>\n",
       "      <td>...</td>\n",
       "      <td>...</td>\n",
       "      <td>...</td>\n",
       "      <td>...</td>\n",
       "      <td>...</td>\n",
       "      <td>...</td>\n",
       "      <td>...</td>\n",
       "      <td>...</td>\n",
       "      <td>...</td>\n",
       "    </tr>\n",
       "    <tr>\n",
       "      <th>20635</th>\n",
       "      <td>-121.09</td>\n",
       "      <td>39.48</td>\n",
       "      <td>25.0</td>\n",
       "      <td>1665.0</td>\n",
       "      <td>374.0</td>\n",
       "      <td>845.0</td>\n",
       "      <td>330.0</td>\n",
       "      <td>1.5603</td>\n",
       "      <td>78100.0</td>\n",
       "    </tr>\n",
       "    <tr>\n",
       "      <th>20636</th>\n",
       "      <td>-121.21</td>\n",
       "      <td>39.49</td>\n",
       "      <td>18.0</td>\n",
       "      <td>697.0</td>\n",
       "      <td>150.0</td>\n",
       "      <td>356.0</td>\n",
       "      <td>114.0</td>\n",
       "      <td>2.5568</td>\n",
       "      <td>77100.0</td>\n",
       "    </tr>\n",
       "    <tr>\n",
       "      <th>20637</th>\n",
       "      <td>-121.22</td>\n",
       "      <td>39.43</td>\n",
       "      <td>17.0</td>\n",
       "      <td>2254.0</td>\n",
       "      <td>485.0</td>\n",
       "      <td>1007.0</td>\n",
       "      <td>433.0</td>\n",
       "      <td>1.7000</td>\n",
       "      <td>92300.0</td>\n",
       "    </tr>\n",
       "    <tr>\n",
       "      <th>20638</th>\n",
       "      <td>-121.32</td>\n",
       "      <td>39.43</td>\n",
       "      <td>18.0</td>\n",
       "      <td>1860.0</td>\n",
       "      <td>409.0</td>\n",
       "      <td>741.0</td>\n",
       "      <td>349.0</td>\n",
       "      <td>1.8672</td>\n",
       "      <td>84700.0</td>\n",
       "    </tr>\n",
       "    <tr>\n",
       "      <th>20639</th>\n",
       "      <td>-121.24</td>\n",
       "      <td>39.37</td>\n",
       "      <td>16.0</td>\n",
       "      <td>2785.0</td>\n",
       "      <td>616.0</td>\n",
       "      <td>1387.0</td>\n",
       "      <td>530.0</td>\n",
       "      <td>2.3886</td>\n",
       "      <td>89400.0</td>\n",
       "    </tr>\n",
       "  </tbody>\n",
       "</table>\n",
       "<p>6551 rows × 9 columns</p>\n",
       "</div>"
      ],
      "text/plain": [
       "       longitude  latitude  housing_median_age  total_rooms  total_bedrooms  \\\n",
       "954      -121.92     37.64                46.0       1280.0           209.0   \n",
       "957      -121.90     37.66                18.0       7397.0          1137.0   \n",
       "965      -121.88     37.68                23.0       2234.0           270.0   \n",
       "967      -121.88     37.67                16.0       4070.0           624.0   \n",
       "968      -121.88     37.67                25.0       2244.0           301.0   \n",
       "...          ...       ...                 ...          ...             ...   \n",
       "20635    -121.09     39.48                25.0       1665.0           374.0   \n",
       "20636    -121.21     39.49                18.0        697.0           150.0   \n",
       "20637    -121.22     39.43                17.0       2254.0           485.0   \n",
       "20638    -121.32     39.43                18.0       1860.0           409.0   \n",
       "20639    -121.24     39.37                16.0       2785.0           616.0   \n",
       "\n",
       "       population  households  median_income  median_house_value  \n",
       "954         512.0       208.0         5.1406            315600.0  \n",
       "957        3126.0      1115.0         6.4994            323000.0  \n",
       "965         854.0       286.0         7.3330            337200.0  \n",
       "967        1543.0       577.0         6.5214            311500.0  \n",
       "968         937.0       324.0         6.4524            296900.0  \n",
       "...           ...         ...            ...                 ...  \n",
       "20635       845.0       330.0         1.5603             78100.0  \n",
       "20636       356.0       114.0         2.5568             77100.0  \n",
       "20637      1007.0       433.0         1.7000             92300.0  \n",
       "20638       741.0       349.0         1.8672             84700.0  \n",
       "20639      1387.0       530.0         2.3886             89400.0  \n",
       "\n",
       "[6551 rows x 9 columns]"
      ]
     },
     "execution_count": 9,
     "metadata": {},
     "output_type": "execute_result"
    }
   ],
   "source": [
    "data"
   ]
  },
  {
   "cell_type": "markdown",
   "id": "a563aeeb-e3c9-4380-8a3c-628ac0ae8e18",
   "metadata": {},
   "source": [
    "## Question 1"
   ]
  },
  {
   "cell_type": "code",
   "execution_count": 10,
   "id": "8bb7f856-7bc0-48e0-90ff-326ca02b1c0f",
   "metadata": {},
   "outputs": [
    {
     "data": {
      "text/plain": [
       "longitude              0\n",
       "latitude               0\n",
       "housing_median_age     0\n",
       "total_rooms            0\n",
       "total_bedrooms        55\n",
       "population             0\n",
       "households             0\n",
       "median_income          0\n",
       "median_house_value     0\n",
       "dtype: int64"
      ]
     },
     "execution_count": 10,
     "metadata": {},
     "output_type": "execute_result"
    }
   ],
   "source": [
    "data.isnull().sum()"
   ]
  },
  {
   "cell_type": "markdown",
   "id": "e91be31d-5c5a-4de5-9bf3-6045711b0963",
   "metadata": {},
   "source": [
    "## Question 2"
   ]
  },
  {
   "cell_type": "code",
   "execution_count": 11,
   "id": "11bbb2ec-3c5a-45a2-b346-68174b9e68a9",
   "metadata": {},
   "outputs": [
    {
     "data": {
      "text/plain": [
       "count     6551.000000\n",
       "mean      1391.046252\n",
       "std       1168.670126\n",
       "min          5.000000\n",
       "25%        722.000000\n",
       "50%       1124.000000\n",
       "75%       1687.000000\n",
       "max      16305.000000\n",
       "Name: population, dtype: float64"
      ]
     },
     "execution_count": 11,
     "metadata": {},
     "output_type": "execute_result"
    }
   ],
   "source": [
    "data[\"population\"].describe()"
   ]
  },
  {
   "cell_type": "code",
   "execution_count": 12,
   "id": "b9711bf7-1bc7-440b-b4c5-8536913b211b",
   "metadata": {},
   "outputs": [
    {
     "data": {
      "text/plain": [
       "1124.0"
      ]
     },
     "execution_count": 12,
     "metadata": {},
     "output_type": "execute_result"
    }
   ],
   "source": [
    "data[\"population\"].median()"
   ]
  },
  {
   "cell_type": "markdown",
   "id": "073dcd2c-3dde-4e12-b15a-fa13dfbc48f7",
   "metadata": {},
   "source": [
    "### The median for variable 'population' is 1124."
   ]
  },
  {
   "cell_type": "markdown",
   "id": "70cede67-5506-4e24-a8ea-32c5571cc8fa",
   "metadata": {},
   "source": [
    "## Prepare and split the dataset"
   ]
  },
  {
   "cell_type": "code",
   "execution_count": 13,
   "id": "2a61aaf1-b75f-44af-937a-37cbe922adf0",
   "metadata": {},
   "outputs": [],
   "source": [
    "# Split the data in train/val/test sets\n",
    "n = len(data)\n",
    "n_val = int(n * 0.2)\n",
    "n_test = int(n * 0.2)\n",
    "n_train = n - n_val - n_test"
   ]
  },
  {
   "cell_type": "code",
   "execution_count": 14,
   "id": "c444f518-7404-4692-a4d0-df46468f3b15",
   "metadata": {},
   "outputs": [],
   "source": [
    "# Shuffle the initial dataset, use seed 42\n",
    "index = np.arange(n)\n",
    "np.random.seed(42)\n",
    "np.random.shuffle(index)"
   ]
  },
  {
   "cell_type": "code",
   "execution_count": 15,
   "id": "43c0eb0c-e3d8-4df0-bfba-2a8a5fac6089",
   "metadata": {},
   "outputs": [],
   "source": [
    "df_train = data.iloc[index[:n_train]]\n",
    "df_val = data.iloc[index[n_train:n_train+n_val]]\n",
    "df_test = data.iloc[index[n_train+n_val:]]"
   ]
  },
  {
   "cell_type": "code",
   "execution_count": 16,
   "id": "3f9a2ebf-dc09-451f-92b9-88a0e688e43a",
   "metadata": {},
   "outputs": [],
   "source": [
    "df_train = df_train.reset_index(drop=True)\n",
    "df_val = df_val.reset_index(drop=True)\n",
    "df_test = df_test.reset_index(drop=True)"
   ]
  },
  {
   "cell_type": "code",
   "execution_count": 17,
   "id": "6ed11edd-401a-4d87-aeeb-15b782687200",
   "metadata": {},
   "outputs": [],
   "source": [
    "# The log transformation to the median house value\n",
    "y_train = np.log1p(df_train.median_house_value.values)\n",
    "y_val = np.log1p(df_val.median_house_value.values)\n",
    "y_test = np.log1p(df_test.median_house_value.values)"
   ]
  },
  {
   "cell_type": "code",
   "execution_count": 18,
   "id": "d1a563d9-6ca6-48fc-8fde-fdff3bbc28aa",
   "metadata": {},
   "outputs": [],
   "source": [
    "del df_train[\"median_house_value\"]\n",
    "del df_val[\"median_house_value\"]\n",
    "del df_test[\"median_house_value\"]"
   ]
  },
  {
   "cell_type": "markdown",
   "id": "ccdef97a-3787-4a2e-9bc1-00b231d69b41",
   "metadata": {},
   "source": [
    "## Question 3"
   ]
  },
  {
   "cell_type": "code",
   "execution_count": 19,
   "id": "a9295b58-b404-417a-91c4-a6d686b06333",
   "metadata": {},
   "outputs": [],
   "source": [
    "# Function for rmse values\n",
    "def rmse(y, y_pred):\n",
    "    error = y_pred - y\n",
    "    mse = (error ** 2).mean()\n",
    "    return np.sqrt(mse)"
   ]
  },
  {
   "cell_type": "code",
   "execution_count": 20,
   "id": "6dc8e988-7c01-4d98-b6e6-58643dd7995d",
   "metadata": {},
   "outputs": [],
   "source": [
    "# Function for train_linear_regression\n",
    "def train_linear_regression(X, y):\n",
    "    ones = np.ones(X.shape[0])\n",
    "    X = np.column_stack([ones, X])\n",
    "    \n",
    "    XTX = X.T.dot(X)\n",
    "    XTX_inv = np.linalg.inv(XTX)\n",
    "    w = XTX_inv.dot(X.T).dot(y)\n",
    "    \n",
    "    return w[0], w[1:]"
   ]
  },
  {
   "cell_type": "markdown",
   "id": "332218e5-b51c-4751-ba74-9d4674054d7d",
   "metadata": {},
   "source": [
    "#### Option to deal the missing value , and fill it with 0"
   ]
  },
  {
   "cell_type": "code",
   "execution_count": 21,
   "id": "4cd6f95c-46f0-4af6-9543-082da2c1475e",
   "metadata": {},
   "outputs": [],
   "source": [
    "# Transform the data sets to numpy\n",
    "X_null_train = df_train.fillna(0)\n",
    "X_null_val = df_val.fillna(0)"
   ]
  },
  {
   "cell_type": "code",
   "execution_count": 22,
   "id": "be489476-bf03-48b0-9e18-65486cd24a2f",
   "metadata": {},
   "outputs": [
    {
     "data": {
      "text/plain": [
       "array([[-1.1555e+02,  3.2800e+01,  2.3000e+01, ...,  5.8000e+02,\n",
       "         1.6000e+02,  2.1136e+00],\n",
       "       [-1.1985e+02,  3.6780e+01,  8.0000e+00, ...,  1.4540e+03,\n",
       "         5.4500e+02,  2.7857e+00],\n",
       "       [-1.2129e+02,  3.8650e+01,  2.7000e+01, ...,  1.3400e+03,\n",
       "         4.5200e+02,  3.8816e+00],\n",
       "       ...,\n",
       "       [-1.1772e+02,  3.4100e+01,  4.6000e+01, ...,  1.0340e+03,\n",
       "         4.5500e+02,  5.5000e+00],\n",
       "       [-1.1902e+02,  3.6070e+01,  2.9000e+01, ...,  1.6590e+03,\n",
       "         5.7100e+02,  1.5911e+00],\n",
       "       [-1.1977e+02,  3.6300e+01,  2.4000e+01, ...,  1.0520e+03,\n",
       "         4.3900e+02,  2.1038e+00]])"
      ]
     },
     "execution_count": 22,
     "metadata": {},
     "output_type": "execute_result"
    }
   ],
   "source": [
    "X_null_train.to_numpy()"
   ]
  },
  {
   "cell_type": "code",
   "execution_count": 23,
   "id": "0bdafdaa-e929-40dd-81d4-272b31faed92",
   "metadata": {},
   "outputs": [
    {
     "name": "stdout",
     "output_type": "stream",
     "text": [
      "(1310, 8)\n",
      "(3931, 8)\n"
     ]
    }
   ],
   "source": [
    "print(X_null_val.shape)\n",
    "print(X_null_train.shape)"
   ]
  },
  {
   "cell_type": "code",
   "execution_count": 24,
   "id": "de72b2d7-13ed-4ee9-950a-b700ec5838b9",
   "metadata": {},
   "outputs": [],
   "source": [
    "w0_null , w_null = train_linear_regression(X_null_train, y_train)"
   ]
  },
  {
   "cell_type": "code",
   "execution_count": 25,
   "id": "fa42c848-3b22-417c-9540-a784979beec1",
   "metadata": {},
   "outputs": [],
   "source": [
    "# Calculate the y_pred_val\n",
    "y_null_pred_val = w0_null + X_null_val.dot(w_null)"
   ]
  },
  {
   "cell_type": "code",
   "execution_count": 26,
   "id": "f48494dd-8d80-4d19-aa68-83fe15c677a3",
   "metadata": {},
   "outputs": [
    {
     "data": {
      "text/plain": [
       "0.33"
      ]
     },
     "execution_count": 26,
     "metadata": {},
     "output_type": "execute_result"
    }
   ],
   "source": [
    "# rmse score\n",
    "rmse(y_val, y_null_pred_val).round(2)"
   ]
  },
  {
   "cell_type": "markdown",
   "id": "538c5868-5a2e-4b69-b19b-54a930f5cf4d",
   "metadata": {},
   "source": [
    "#### Option to deal the missing value , and fill it with mean"
   ]
  },
  {
   "cell_type": "code",
   "execution_count": 27,
   "id": "a4a86303-edc5-4ffb-8c0d-2d0c2fed51fc",
   "metadata": {},
   "outputs": [],
   "source": [
    "# Transform the data sets to numpy\n",
    "X_mean_train = df_train.fillna(df_train[\"total_bedrooms\"].mean())\n",
    "X_mean_val = df_val.fillna(df_val[\"total_bedrooms\"].mean())"
   ]
  },
  {
   "cell_type": "code",
   "execution_count": 28,
   "id": "8e076a11-225e-46d9-870f-cb07d930dd2e",
   "metadata": {},
   "outputs": [
    {
     "data": {
      "text/plain": [
       "array([[-1.1957e+02,  3.7020e+01,  1.6000e+01, ...,  2.1400e+03,\n",
       "         7.2200e+02,  3.3320e+00],\n",
       "       [-1.1937e+02,  3.6190e+01,  2.4000e+01, ...,  8.8900e+02,\n",
       "         2.7600e+02,  2.4922e+00],\n",
       "       [-1.1804e+02,  3.4090e+01,  3.4000e+01, ...,  1.4610e+03,\n",
       "         3.9700e+02,  3.8304e+00],\n",
       "       ...,\n",
       "       [-1.1972e+02,  3.6820e+01,  1.6000e+01, ...,  1.0540e+03,\n",
       "         6.2300e+02,  1.9483e+00],\n",
       "       [-1.2146e+02,  3.8550e+01,  5.2000e+01, ...,  1.7890e+03,\n",
       "         5.5800e+02,  1.7616e+00],\n",
       "       [-1.2140e+02,  3.8630e+01,  3.0000e+01, ...,  1.5770e+03,\n",
       "         8.0600e+02,  2.5170e+00]])"
      ]
     },
     "execution_count": 28,
     "metadata": {},
     "output_type": "execute_result"
    }
   ],
   "source": [
    "X_mean_train.to_numpy()\n",
    "X_mean_val.to_numpy()"
   ]
  },
  {
   "cell_type": "code",
   "execution_count": 29,
   "id": "04cab848-59a8-4151-b5cc-9dfff55addb6",
   "metadata": {},
   "outputs": [],
   "source": [
    "w_mean_null , w_mean = train_linear_regression(X_mean_train, y_train)"
   ]
  },
  {
   "cell_type": "code",
   "execution_count": 30,
   "id": "fff0512c-1947-41e3-a244-3403c0ed7479",
   "metadata": {},
   "outputs": [],
   "source": [
    "# Calculate the y_pred_val\n",
    "y_mean_pred_val = w_mean_null + X_mean_val.dot(w_mean)"
   ]
  },
  {
   "cell_type": "code",
   "execution_count": 31,
   "id": "ed489b8d-49cf-4494-943f-bcebfd32d0a5",
   "metadata": {},
   "outputs": [
    {
     "data": {
      "text/plain": [
       "0.33"
      ]
     },
     "execution_count": 31,
     "metadata": {},
     "output_type": "execute_result"
    }
   ],
   "source": [
    "# rmse score\n",
    "rmse(y_val, y_mean_pred_val).round(2)"
   ]
  },
  {
   "cell_type": "markdown",
   "id": "0159d0e2-0e4d-4036-8095-93c895e84f43",
   "metadata": {},
   "source": [
    "#### Both are equally good"
   ]
  },
  {
   "cell_type": "markdown",
   "id": "7960d89b-2461-4e0b-b2f8-a751b08da03b",
   "metadata": {},
   "source": [
    "## Question 4"
   ]
  },
  {
   "cell_type": "markdown",
   "id": "508f0d4b-97bb-4fe2-9735-ca7e398dad58",
   "metadata": {},
   "source": [
    "#### Training a regularized linear regression"
   ]
  },
  {
   "cell_type": "code",
   "execution_count": 32,
   "id": "164070ea-fe9c-4c6b-80bd-45b308eb8641",
   "metadata": {},
   "outputs": [],
   "source": [
    "# Function for a train_linean_regression with regularization\n",
    "def train_linear_regression_regularized(X, y, r=0.0):\n",
    "    ones = np.ones(X.shape[0])\n",
    "    X = np.column_stack([ones, X])\n",
    "    \n",
    "    XTX = X.T.dot(X)\n",
    "    reg = r * np.eye(XTX.shape[0])\n",
    "    XTX = XTX + reg\n",
    "    \n",
    "    XTX_inv = np.linalg.inv(XTX)\n",
    "    w = XTX_inv.dot(X.T).dot(y)\n",
    "    \n",
    "    return w[0] , w[1:]"
   ]
  },
  {
   "cell_type": "code",
   "execution_count": 42,
   "id": "2ca77eb2-5bb0-4ddb-8faa-1ea15947d2e8",
   "metadata": {},
   "outputs": [
    {
     "name": "stdout",
     "output_type": "stream",
     "text": [
      "r : 0  =  1.7119439740098468  -  0.3288\n",
      "r : 1e-06  =  1.7119345510753572  -  0.3288\n",
      "r : 0.0001  =  1.7110021557299913  -  0.3288\n",
      "r : 0.001  =  1.702572253406526  -  0.3288\n",
      "r : 0.01  =  1.622632801824091  -  0.3288\n",
      "r : 0.1  =  1.1044434552289175  -  0.3287\n",
      "r : 1  =  0.26480213809102904  -  0.3287\n",
      "r : 5  =  0.062110788260701044  -  0.3288\n",
      "r : 10  =  0.03271058825826362  -  0.3287\n"
     ]
    }
   ],
   "source": [
    "# Inspecting the result \n",
    "for r in [0, 0.000001, 0.0001, 0.001, 0.01, 0.1, 1, 5, 10] :\n",
    "    w0, w = train_linear_regression_regularized(X_null_train, y_train, r=r)\n",
    "    y_pred_reg = w0 + X_null_val.dot(w)\n",
    "    rmse_regularized = rmse(y_val , y_pred_reg).round(4)\n",
    "    print(\"r :\", r, \" = \" , w0 , \" - \" , rmse_regularized )"
   ]
  },
  {
   "cell_type": "markdown",
   "id": "728f5007-66f3-4cb5-8bd5-a6f473432590",
   "metadata": {},
   "source": [
    "## Question 5"
   ]
  },
  {
   "cell_type": "markdown",
   "id": "2c964d27-aede-4486-801b-e67703499a2c",
   "metadata": {},
   "source": [
    "#### The seed who influences our score"
   ]
  },
  {
   "cell_type": "code",
   "execution_count": 34,
   "id": "7f35bc92-a24c-4ad2-b1fd-524568c0ea37",
   "metadata": {},
   "outputs": [
    {
     "name": "stdout",
     "output_type": "stream",
     "text": [
      "0 1.3488523378426613 0.33\n",
      "1 0.6424739308935621 0.34\n",
      "2 2.063316469357222 0.34\n",
      "3 0.2695227595958887 0.31\n",
      "4 0.6971719385617163 0.34\n",
      "5 1.0885694094835654 0.33\n",
      "6 1.2337592697660504 0.33\n",
      "7 0.6587938746487949 0.32\n",
      "8 1.4080744212592755 0.32\n",
      "9 1.7119439740098468 0.33\n"
     ]
    }
   ],
   "source": [
    "#shuffle dataset\n",
    "rmse_score = []\n",
    "\n",
    "for i in [0, 1, 2, 3, 4, 5, 6, 7, 8, 9]:\n",
    "    \n",
    "    index = np.arange(n)\n",
    "    np.random.seed(i)\n",
    "    np.random.shuffle(index)\n",
    "    \n",
    "    df_shuffled = data.iloc[index]\n",
    "    \n",
    "    df_train = df_shuffled.iloc[:n_train].copy()\n",
    "    df_val = df_shuffled.iloc[n_train:n_train+n_val].copy()\n",
    "    df_test = df_shuffled.iloc[n_train+n_val:].copy()\n",
    "    \n",
    "    df_train = df_train.reset_index(drop=True)\n",
    "    df_val = df_val.reset_index(drop=True)\n",
    "    df_test = df_test.reset_index(drop=True)\n",
    "    \n",
    "    # The log transformation to the median house value\n",
    "    y_train = np.log1p(df_train.median_house_value.values)\n",
    "    y_val = np.log1p(df_val.median_house_value.values)\n",
    "    y_test = np.log1p(df_test.median_house_value.values)\n",
    "    \n",
    "    del df_train[\"median_house_value\"]\n",
    "    del df_val[\"median_house_value\"]\n",
    "    del df_test[\"median_house_value\"]\n",
    "    \n",
    "    X_null_train = df_train.fillna(0)\n",
    "    X_null_val = df_val.fillna(0)\n",
    "    \n",
    "    w0_null , w_null = train_linear_regression(X_null_train, y_train)\n",
    "    y_null_pred_val = w0_null + X_null_val.dot(w_null)\n",
    "    rmse_val = rmse(y_val, y_null_pred_val).round(2)\n",
    "    \n",
    "    rmse_score.append(rmse_val)\n",
    "    \n",
    "    print(i, w0_null, rmse_val)"
   ]
  },
  {
   "cell_type": "code",
   "execution_count": 35,
   "id": "2550bf2e-5977-412f-bf8b-8e66e3fa0ee9",
   "metadata": {},
   "outputs": [
    {
     "data": {
      "text/plain": [
       "[0.33, 0.34, 0.34, 0.31, 0.34, 0.33, 0.33, 0.32, 0.32, 0.33]"
      ]
     },
     "execution_count": 35,
     "metadata": {},
     "output_type": "execute_result"
    }
   ],
   "source": [
    "rmse_score"
   ]
  },
  {
   "cell_type": "code",
   "execution_count": 36,
   "id": "dcfff3c5-be53-4afa-9e5d-e22de71e47e2",
   "metadata": {},
   "outputs": [
    {
     "data": {
      "text/plain": [
       "0.009"
      ]
     },
     "execution_count": 36,
     "metadata": {},
     "output_type": "execute_result"
    }
   ],
   "source": [
    "# The standard deviation of all the scores\n",
    "np.std(rmse_score).round(3)"
   ]
  },
  {
   "cell_type": "markdown",
   "id": "c4ede11b-63b1-4026-b462-bacefceb373b",
   "metadata": {},
   "source": [
    "## Question 6"
   ]
  },
  {
   "cell_type": "code",
   "execution_count": 37,
   "id": "18960039-45df-4767-8b46-853e6d53a1f9",
   "metadata": {},
   "outputs": [],
   "source": [
    "index = np.arange(n)\n",
    "np.random.seed(9)\n",
    "np.random.shuffle(index)"
   ]
  },
  {
   "cell_type": "code",
   "execution_count": 38,
   "id": "af7f38d4-1f4c-4e44-b11d-3df0fba329e3",
   "metadata": {},
   "outputs": [],
   "source": [
    "#Shuffle datasets\n",
    "df_shuffled = data.iloc[index]\n",
    "    \n",
    "df_train = df_shuffled.iloc[:n_train].copy()\n",
    "df_val = df_shuffled.iloc[n_train:n_train+n_val].copy()\n",
    "df_test = df_shuffled.iloc[n_train+n_val:].copy()\n",
    "    \n",
    "df_train = df_train.reset_index(drop=True)\n",
    "df_val = df_val.reset_index(drop=True)\n",
    "df_test = df_test.reset_index(drop=True)\n",
    "\n",
    "#combine train and validation datasets\n",
    "frame = [df_train, df_val]\n",
    "df_train_concat = pd.concat(frame)\n",
    "\n",
    "# The log transformation to the median house value\n",
    "y_train_concat = np.log1p(df_train_concat.median_house_value.values)\n",
    "y_test = np.log1p(df_test.median_house_value.values)\n",
    "    \n",
    "del df_train_concat[\"median_house_value\"]\n",
    "del df_test[\"median_house_value\"]"
   ]
  },
  {
   "cell_type": "code",
   "execution_count": 39,
   "id": "481cff36-17fb-4692-909c-dd94bb24c665",
   "metadata": {},
   "outputs": [
    {
     "data": {
      "text/html": [
       "<div>\n",
       "<style scoped>\n",
       "    .dataframe tbody tr th:only-of-type {\n",
       "        vertical-align: middle;\n",
       "    }\n",
       "\n",
       "    .dataframe tbody tr th {\n",
       "        vertical-align: top;\n",
       "    }\n",
       "\n",
       "    .dataframe thead th {\n",
       "        text-align: right;\n",
       "    }\n",
       "</style>\n",
       "<table border=\"1\" class=\"dataframe\">\n",
       "  <thead>\n",
       "    <tr style=\"text-align: right;\">\n",
       "      <th></th>\n",
       "      <th>longitude</th>\n",
       "      <th>latitude</th>\n",
       "      <th>housing_median_age</th>\n",
       "      <th>total_rooms</th>\n",
       "      <th>total_bedrooms</th>\n",
       "      <th>population</th>\n",
       "      <th>households</th>\n",
       "      <th>median_income</th>\n",
       "    </tr>\n",
       "  </thead>\n",
       "  <tbody>\n",
       "    <tr>\n",
       "      <th>0</th>\n",
       "      <td>-123.41</td>\n",
       "      <td>40.61</td>\n",
       "      <td>17.0</td>\n",
       "      <td>769.0</td>\n",
       "      <td>205.0</td>\n",
       "      <td>301.0</td>\n",
       "      <td>126.0</td>\n",
       "      <td>1.7875</td>\n",
       "    </tr>\n",
       "    <tr>\n",
       "      <th>1</th>\n",
       "      <td>-118.02</td>\n",
       "      <td>34.10</td>\n",
       "      <td>36.0</td>\n",
       "      <td>1928.0</td>\n",
       "      <td>361.0</td>\n",
       "      <td>1008.0</td>\n",
       "      <td>368.0</td>\n",
       "      <td>4.7330</td>\n",
       "    </tr>\n",
       "    <tr>\n",
       "      <th>2</th>\n",
       "      <td>-118.02</td>\n",
       "      <td>34.13</td>\n",
       "      <td>32.0</td>\n",
       "      <td>3308.0</td>\n",
       "      <td>718.0</td>\n",
       "      <td>1803.0</td>\n",
       "      <td>667.0</td>\n",
       "      <td>3.9464</td>\n",
       "    </tr>\n",
       "    <tr>\n",
       "      <th>3</th>\n",
       "      <td>-115.90</td>\n",
       "      <td>32.69</td>\n",
       "      <td>18.0</td>\n",
       "      <td>414.0</td>\n",
       "      <td>86.0</td>\n",
       "      <td>98.0</td>\n",
       "      <td>54.0</td>\n",
       "      <td>1.5417</td>\n",
       "    </tr>\n",
       "    <tr>\n",
       "      <th>4</th>\n",
       "      <td>-121.49</td>\n",
       "      <td>37.94</td>\n",
       "      <td>31.0</td>\n",
       "      <td>1860.0</td>\n",
       "      <td>394.0</td>\n",
       "      <td>1848.0</td>\n",
       "      <td>293.0</td>\n",
       "      <td>2.2891</td>\n",
       "    </tr>\n",
       "    <tr>\n",
       "      <th>...</th>\n",
       "      <td>...</td>\n",
       "      <td>...</td>\n",
       "      <td>...</td>\n",
       "      <td>...</td>\n",
       "      <td>...</td>\n",
       "      <td>...</td>\n",
       "      <td>...</td>\n",
       "      <td>...</td>\n",
       "    </tr>\n",
       "    <tr>\n",
       "      <th>1305</th>\n",
       "      <td>-121.68</td>\n",
       "      <td>39.13</td>\n",
       "      <td>17.0</td>\n",
       "      <td>1969.0</td>\n",
       "      <td>297.0</td>\n",
       "      <td>717.0</td>\n",
       "      <td>268.0</td>\n",
       "      <td>3.4698</td>\n",
       "    </tr>\n",
       "    <tr>\n",
       "      <th>1306</th>\n",
       "      <td>-121.75</td>\n",
       "      <td>37.69</td>\n",
       "      <td>26.0</td>\n",
       "      <td>2647.0</td>\n",
       "      <td>536.0</td>\n",
       "      <td>1422.0</td>\n",
       "      <td>522.0</td>\n",
       "      <td>3.7212</td>\n",
       "    </tr>\n",
       "    <tr>\n",
       "      <th>1307</th>\n",
       "      <td>-119.76</td>\n",
       "      <td>36.83</td>\n",
       "      <td>20.0</td>\n",
       "      <td>3214.0</td>\n",
       "      <td>446.0</td>\n",
       "      <td>1360.0</td>\n",
       "      <td>463.0</td>\n",
       "      <td>5.2595</td>\n",
       "    </tr>\n",
       "    <tr>\n",
       "      <th>1308</th>\n",
       "      <td>-117.54</td>\n",
       "      <td>34.12</td>\n",
       "      <td>4.0</td>\n",
       "      <td>17577.0</td>\n",
       "      <td>2819.0</td>\n",
       "      <td>7766.0</td>\n",
       "      <td>2473.0</td>\n",
       "      <td>5.1333</td>\n",
       "    </tr>\n",
       "    <tr>\n",
       "      <th>1309</th>\n",
       "      <td>-119.80</td>\n",
       "      <td>36.78</td>\n",
       "      <td>43.0</td>\n",
       "      <td>2382.0</td>\n",
       "      <td>431.0</td>\n",
       "      <td>874.0</td>\n",
       "      <td>380.0</td>\n",
       "      <td>3.5542</td>\n",
       "    </tr>\n",
       "  </tbody>\n",
       "</table>\n",
       "<p>5241 rows × 8 columns</p>\n",
       "</div>"
      ],
      "text/plain": [
       "      longitude  latitude  housing_median_age  total_rooms  total_bedrooms  \\\n",
       "0       -123.41     40.61                17.0        769.0           205.0   \n",
       "1       -118.02     34.10                36.0       1928.0           361.0   \n",
       "2       -118.02     34.13                32.0       3308.0           718.0   \n",
       "3       -115.90     32.69                18.0        414.0            86.0   \n",
       "4       -121.49     37.94                31.0       1860.0           394.0   \n",
       "...         ...       ...                 ...          ...             ...   \n",
       "1305    -121.68     39.13                17.0       1969.0           297.0   \n",
       "1306    -121.75     37.69                26.0       2647.0           536.0   \n",
       "1307    -119.76     36.83                20.0       3214.0           446.0   \n",
       "1308    -117.54     34.12                 4.0      17577.0          2819.0   \n",
       "1309    -119.80     36.78                43.0       2382.0           431.0   \n",
       "\n",
       "      population  households  median_income  \n",
       "0          301.0       126.0         1.7875  \n",
       "1         1008.0       368.0         4.7330  \n",
       "2         1803.0       667.0         3.9464  \n",
       "3           98.0        54.0         1.5417  \n",
       "4         1848.0       293.0         2.2891  \n",
       "...          ...         ...            ...  \n",
       "1305       717.0       268.0         3.4698  \n",
       "1306      1422.0       522.0         3.7212  \n",
       "1307      1360.0       463.0         5.2595  \n",
       "1308      7766.0      2473.0         5.1333  \n",
       "1309       874.0       380.0         3.5542  \n",
       "\n",
       "[5241 rows x 8 columns]"
      ]
     },
     "execution_count": 39,
     "metadata": {},
     "output_type": "execute_result"
    }
   ],
   "source": [
    "df_train_concat"
   ]
  },
  {
   "cell_type": "code",
   "execution_count": 40,
   "id": "f227fa11-5bcb-4756-892a-53eb218bd7e3",
   "metadata": {},
   "outputs": [],
   "source": [
    "X_train_concat = df_train_concat.fillna(0)\n",
    "X_test = df_test.fillna(0)"
   ]
  },
  {
   "cell_type": "code",
   "execution_count": 41,
   "id": "1659df9c-a26e-44fc-a7ec-b4139c65a13d",
   "metadata": {},
   "outputs": [
    {
     "data": {
      "text/plain": [
       "0.34"
      ]
     },
     "execution_count": 41,
     "metadata": {},
     "output_type": "execute_result"
    }
   ],
   "source": [
    "w0_reg , w_reg = train_linear_regression_regularized(X_train_concat, y_train_concat, r=0.001)\n",
    "y0_pred_concat = w0_reg + X_test.dot(w_reg)\n",
    "rmse(y_test , y0_pred_concat).round(2)"
   ]
  },
  {
   "cell_type": "code",
   "execution_count": null,
   "id": "bd4cf2cf-477f-4882-a7e6-fea487a22060",
   "metadata": {},
   "outputs": [],
   "source": []
  }
 ],
 "metadata": {
  "kernelspec": {
   "display_name": "Python 3 (ipykernel)",
   "language": "python",
   "name": "python3"
  },
  "language_info": {
   "codemirror_mode": {
    "name": "ipython",
    "version": 3
   },
   "file_extension": ".py",
   "mimetype": "text/x-python",
   "name": "python",
   "nbconvert_exporter": "python",
   "pygments_lexer": "ipython3",
   "version": "3.9.13"
  }
 },
 "nbformat": 4,
 "nbformat_minor": 5
}
